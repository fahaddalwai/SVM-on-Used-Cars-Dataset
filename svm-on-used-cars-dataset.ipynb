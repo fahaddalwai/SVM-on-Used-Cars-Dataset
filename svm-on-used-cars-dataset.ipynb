{
 "cells": [
  {
   "cell_type": "code",
   "execution_count": 1,
   "id": "b555cc1e",
   "metadata": {
    "_cell_guid": "b1076dfc-b9ad-4769-8c92-a6c4dae69d19",
    "_uuid": "8f2839f25d086af736a60e9eeb907d3b93b6e0e5",
    "execution": {
     "iopub.execute_input": "2023-01-14T14:01:19.958827Z",
     "iopub.status.busy": "2023-01-14T14:01:19.958316Z",
     "iopub.status.idle": "2023-01-14T14:01:21.297846Z",
     "shell.execute_reply": "2023-01-14T14:01:21.296554Z"
    },
    "papermill": {
     "duration": 1.353853,
     "end_time": "2023-01-14T14:01:21.301663",
     "exception": false,
     "start_time": "2023-01-14T14:01:19.947810",
     "status": "completed"
    },
    "tags": []
   },
   "outputs": [
    {
     "name": "stdout",
     "output_type": "stream",
     "text": [
      "/kaggle/input/used-car-dataset-ford-and-mercedes/cclass.csv\n",
      "/kaggle/input/used-car-dataset-ford-and-mercedes/unclean cclass.csv\n",
      "/kaggle/input/used-car-dataset-ford-and-mercedes/focus.csv\n",
      "/kaggle/input/used-car-dataset-ford-and-mercedes/audi.csv\n",
      "/kaggle/input/used-car-dataset-ford-and-mercedes/toyota.csv\n",
      "/kaggle/input/used-car-dataset-ford-and-mercedes/skoda.csv\n",
      "/kaggle/input/used-car-dataset-ford-and-mercedes/ford.csv\n",
      "/kaggle/input/used-car-dataset-ford-and-mercedes/vauxhall.csv\n",
      "/kaggle/input/used-car-dataset-ford-and-mercedes/bmw.csv\n",
      "/kaggle/input/used-car-dataset-ford-and-mercedes/vw.csv\n",
      "/kaggle/input/used-car-dataset-ford-and-mercedes/hyundi.csv\n",
      "/kaggle/input/used-car-dataset-ford-and-mercedes/unclean focus.csv\n",
      "/kaggle/input/used-car-dataset-ford-and-mercedes/merc.csv\n"
     ]
    }
   ],
   "source": [
    "# This Python 3 environment comes with many helpful analytics libraries installed\n",
    "# It is defined by the kaggle/python Docker image: https://github.com/kaggle/docker-python\n",
    "# For example, here's several helpful packages to load\n",
    "\n",
    "import numpy as np # linear algebra\n",
    "import pandas as pd # data processing, CSV file I/O (e.g. pd.read_csv)\n",
    "from sklearn.model_selection import train_test_split\n",
    "from sklearn.svm import SVR,LinearSVR\n",
    "from sklearn.metrics import mean_absolute_error,mean_squared_error\n",
    "from sklearn.model_selection import GridSearchCV\n",
    "from sklearn.preprocessing import StandardScaler\n",
    "import seaborn as sns\n",
    "import matplotlib.pyplot as plt\n",
    "# Input data files are available in the read-only \"../input/\" directory\n",
    "# For example, running this (by clicking run or pressing Shift+Enter) will list all files under the input directory\n",
    "\n",
    "import os\n",
    "for dirname, _, filenames in os.walk('/kaggle/input'):\n",
    "    for filename in filenames:\n",
    "        print(os.path.join(dirname, filename))\n",
    "\n",
    "# You can write up to 20GB to the current directory (/kaggle/working/) that gets preserved as output when you create a version using \"Save & Run All\" \n",
    "# You can also write temporary files to /kaggle/temp/, but they won't be saved outside of the current session"
   ]
  },
  {
   "cell_type": "markdown",
   "id": "216c17e7",
   "metadata": {
    "papermill": {
     "duration": 0.009252,
     "end_time": "2023-01-14T14:01:21.320219",
     "exception": false,
     "start_time": "2023-01-14T14:01:21.310967",
     "status": "completed"
    },
    "tags": []
   },
   "source": [
    "# Exploring the Data"
   ]
  },
  {
   "cell_type": "markdown",
   "id": "a41e1baa",
   "metadata": {
    "papermill": {
     "duration": 0.008461,
     "end_time": "2023-01-14T14:01:21.336480",
     "exception": false,
     "start_time": "2023-01-14T14:01:21.328019",
     "status": "completed"
    },
    "tags": []
   },
   "source": [
    "For the sake of simplicity, we go ahead with only the 'Ford and Mercedes C class cars' in order to limit our data size. Note that SVM does not scale very well when the number of samples are large (>10k), this is because the training complexity of SVM is very high."
   ]
  },
  {
   "cell_type": "code",
   "execution_count": 2,
   "id": "3fec6051",
   "metadata": {
    "execution": {
     "iopub.execute_input": "2023-01-14T14:01:21.354642Z",
     "iopub.status.busy": "2023-01-14T14:01:21.354165Z",
     "iopub.status.idle": "2023-01-14T14:01:21.378458Z",
     "shell.execute_reply": "2023-01-14T14:01:21.377335Z"
    },
    "papermill": {
     "duration": 0.036251,
     "end_time": "2023-01-14T14:01:21.381291",
     "exception": false,
     "start_time": "2023-01-14T14:01:21.345040",
     "status": "completed"
    },
    "tags": []
   },
   "outputs": [],
   "source": [
    "df=pd.read_csv('/kaggle/input/used-car-dataset-ford-and-mercedes/cclass.csv')"
   ]
  },
  {
   "cell_type": "markdown",
   "id": "a91c5f7a",
   "metadata": {
    "papermill": {
     "duration": 0.007546,
     "end_time": "2023-01-14T14:01:21.397220",
     "exception": false,
     "start_time": "2023-01-14T14:01:21.389674",
     "status": "completed"
    },
    "tags": []
   },
   "source": [
    "We have a total of 7 columns, with our target column being price that we need to predict. There are a number of categorical columns that we are required to encode as well."
   ]
  },
  {
   "cell_type": "code",
   "execution_count": 3,
   "id": "9f7626ae",
   "metadata": {
    "execution": {
     "iopub.execute_input": "2023-01-14T14:01:21.416585Z",
     "iopub.status.busy": "2023-01-14T14:01:21.416127Z",
     "iopub.status.idle": "2023-01-14T14:01:21.441169Z",
     "shell.execute_reply": "2023-01-14T14:01:21.439823Z"
    },
    "papermill": {
     "duration": 0.037032,
     "end_time": "2023-01-14T14:01:21.443761",
     "exception": false,
     "start_time": "2023-01-14T14:01:21.406729",
     "status": "completed"
    },
    "tags": []
   },
   "outputs": [
    {
     "data": {
      "text/html": [
       "<div>\n",
       "<style scoped>\n",
       "    .dataframe tbody tr th:only-of-type {\n",
       "        vertical-align: middle;\n",
       "    }\n",
       "\n",
       "    .dataframe tbody tr th {\n",
       "        vertical-align: top;\n",
       "    }\n",
       "\n",
       "    .dataframe thead th {\n",
       "        text-align: right;\n",
       "    }\n",
       "</style>\n",
       "<table border=\"1\" class=\"dataframe\">\n",
       "  <thead>\n",
       "    <tr style=\"text-align: right;\">\n",
       "      <th></th>\n",
       "      <th>model</th>\n",
       "      <th>year</th>\n",
       "      <th>price</th>\n",
       "      <th>transmission</th>\n",
       "      <th>mileage</th>\n",
       "      <th>fuelType</th>\n",
       "      <th>engineSize</th>\n",
       "    </tr>\n",
       "  </thead>\n",
       "  <tbody>\n",
       "    <tr>\n",
       "      <th>0</th>\n",
       "      <td>C Class</td>\n",
       "      <td>2020</td>\n",
       "      <td>30495</td>\n",
       "      <td>Automatic</td>\n",
       "      <td>1200</td>\n",
       "      <td>Diesel</td>\n",
       "      <td>2.0</td>\n",
       "    </tr>\n",
       "    <tr>\n",
       "      <th>1</th>\n",
       "      <td>C Class</td>\n",
       "      <td>2020</td>\n",
       "      <td>29989</td>\n",
       "      <td>Automatic</td>\n",
       "      <td>1000</td>\n",
       "      <td>Petrol</td>\n",
       "      <td>1.5</td>\n",
       "    </tr>\n",
       "    <tr>\n",
       "      <th>2</th>\n",
       "      <td>C Class</td>\n",
       "      <td>2020</td>\n",
       "      <td>37899</td>\n",
       "      <td>Automatic</td>\n",
       "      <td>500</td>\n",
       "      <td>Diesel</td>\n",
       "      <td>2.0</td>\n",
       "    </tr>\n",
       "    <tr>\n",
       "      <th>3</th>\n",
       "      <td>C Class</td>\n",
       "      <td>2019</td>\n",
       "      <td>30399</td>\n",
       "      <td>Automatic</td>\n",
       "      <td>5000</td>\n",
       "      <td>Diesel</td>\n",
       "      <td>2.0</td>\n",
       "    </tr>\n",
       "    <tr>\n",
       "      <th>4</th>\n",
       "      <td>C Class</td>\n",
       "      <td>2019</td>\n",
       "      <td>29899</td>\n",
       "      <td>Automatic</td>\n",
       "      <td>4500</td>\n",
       "      <td>Diesel</td>\n",
       "      <td>2.0</td>\n",
       "    </tr>\n",
       "  </tbody>\n",
       "</table>\n",
       "</div>"
      ],
      "text/plain": [
       "      model  year  price transmission  mileage fuelType  engineSize\n",
       "0   C Class  2020  30495    Automatic     1200   Diesel         2.0\n",
       "1   C Class  2020  29989    Automatic     1000   Petrol         1.5\n",
       "2   C Class  2020  37899    Automatic      500   Diesel         2.0\n",
       "3   C Class  2019  30399    Automatic     5000   Diesel         2.0\n",
       "4   C Class  2019  29899    Automatic     4500   Diesel         2.0"
      ]
     },
     "execution_count": 3,
     "metadata": {},
     "output_type": "execute_result"
    }
   ],
   "source": [
    "df.head()"
   ]
  },
  {
   "cell_type": "code",
   "execution_count": 4,
   "id": "f9b8ac4f",
   "metadata": {
    "execution": {
     "iopub.execute_input": "2023-01-14T14:01:21.461421Z",
     "iopub.status.busy": "2023-01-14T14:01:21.460963Z",
     "iopub.status.idle": "2023-01-14T14:01:21.487268Z",
     "shell.execute_reply": "2023-01-14T14:01:21.486127Z"
    },
    "papermill": {
     "duration": 0.03832,
     "end_time": "2023-01-14T14:01:21.490180",
     "exception": false,
     "start_time": "2023-01-14T14:01:21.451860",
     "status": "completed"
    },
    "tags": []
   },
   "outputs": [
    {
     "name": "stdout",
     "output_type": "stream",
     "text": [
      "<class 'pandas.core.frame.DataFrame'>\n",
      "RangeIndex: 3899 entries, 0 to 3898\n",
      "Data columns (total 7 columns):\n",
      " #   Column        Non-Null Count  Dtype  \n",
      "---  ------        --------------  -----  \n",
      " 0   model         3899 non-null   object \n",
      " 1   year          3899 non-null   int64  \n",
      " 2   price         3899 non-null   int64  \n",
      " 3   transmission  3899 non-null   object \n",
      " 4   mileage       3899 non-null   int64  \n",
      " 5   fuelType      3899 non-null   object \n",
      " 6   engineSize    3899 non-null   float64\n",
      "dtypes: float64(1), int64(3), object(3)\n",
      "memory usage: 213.4+ KB\n"
     ]
    }
   ],
   "source": [
    "df.info()"
   ]
  },
  {
   "cell_type": "markdown",
   "id": "7daf2d65",
   "metadata": {
    "papermill": {
     "duration": 0.007493,
     "end_time": "2023-01-14T14:01:21.505738",
     "exception": false,
     "start_time": "2023-01-14T14:01:21.498245",
     "status": "completed"
    },
    "tags": []
   },
   "source": [
    "Great! We don't have any null values for the columns..."
   ]
  },
  {
   "cell_type": "code",
   "execution_count": 5,
   "id": "32cb43d8",
   "metadata": {
    "execution": {
     "iopub.execute_input": "2023-01-14T14:01:21.523486Z",
     "iopub.status.busy": "2023-01-14T14:01:21.523104Z",
     "iopub.status.idle": "2023-01-14T14:01:21.533923Z",
     "shell.execute_reply": "2023-01-14T14:01:21.532642Z"
    },
    "papermill": {
     "duration": 0.022916,
     "end_time": "2023-01-14T14:01:21.536365",
     "exception": false,
     "start_time": "2023-01-14T14:01:21.513449",
     "status": "completed"
    },
    "tags": []
   },
   "outputs": [
    {
     "data": {
      "text/plain": [
       "model           False\n",
       "year            False\n",
       "price           False\n",
       "transmission    False\n",
       "mileage         False\n",
       "fuelType        False\n",
       "engineSize      False\n",
       "dtype: bool"
      ]
     },
     "execution_count": 5,
     "metadata": {},
     "output_type": "execute_result"
    }
   ],
   "source": [
    "df.isna().any()"
   ]
  },
  {
   "cell_type": "code",
   "execution_count": 6,
   "id": "729899bf",
   "metadata": {
    "execution": {
     "iopub.execute_input": "2023-01-14T14:01:21.553869Z",
     "iopub.status.busy": "2023-01-14T14:01:21.553438Z",
     "iopub.status.idle": "2023-01-14T14:01:21.565178Z",
     "shell.execute_reply": "2023-01-14T14:01:21.564268Z"
    },
    "papermill": {
     "duration": 0.02305,
     "end_time": "2023-01-14T14:01:21.567385",
     "exception": false,
     "start_time": "2023-01-14T14:01:21.544335",
     "status": "completed"
    },
    "tags": []
   },
   "outputs": [
    {
     "data": {
      "text/plain": [
       "mileage      -0.679655\n",
       "engineSize    0.373798\n",
       "year          0.674424\n",
       "price         1.000000\n",
       "Name: price, dtype: float64"
      ]
     },
     "execution_count": 6,
     "metadata": {},
     "output_type": "execute_result"
    }
   ],
   "source": [
    "df.corr()['price'].sort_values()"
   ]
  },
  {
   "cell_type": "code",
   "execution_count": 7,
   "id": "efedd3b2",
   "metadata": {
    "execution": {
     "iopub.execute_input": "2023-01-14T14:01:21.585792Z",
     "iopub.status.busy": "2023-01-14T14:01:21.585362Z",
     "iopub.status.idle": "2023-01-14T14:01:22.050052Z",
     "shell.execute_reply": "2023-01-14T14:01:22.048782Z"
    },
    "papermill": {
     "duration": 0.477182,
     "end_time": "2023-01-14T14:01:22.052742",
     "exception": false,
     "start_time": "2023-01-14T14:01:21.575560",
     "status": "completed"
    },
    "tags": []
   },
   "outputs": [
    {
     "data": {
      "text/plain": [
       "<seaborn.matrix.ClusterGrid at 0x7f1721228790>"
      ]
     },
     "execution_count": 7,
     "metadata": {},
     "output_type": "execute_result"
    },
    {
     "data": {
      "image/png": "[encoded data removed]",
      "text/plain": [
       "<Figure size 720x720 with 4 Axes>"
      ]
     },
     "metadata": {
      "needs_background": "light"
     },
     "output_type": "display_data"
    }
   ],
   "source": [
    "sns.clustermap(df.corr(),cmap='viridis')"
   ]
  },
  {
   "cell_type": "markdown",
   "id": "9c6df7d0",
   "metadata": {
    "papermill": {
     "duration": 0.008193,
     "end_time": "2023-01-14T14:01:22.069947",
     "exception": false,
     "start_time": "2023-01-14T14:01:22.061754",
     "status": "completed"
    },
    "tags": []
   },
   "source": [
    "It is also visible that the features have a high correlation with the price column which can be of significan to us, mainly because we have only 3 feature columns."
   ]
  },
  {
   "cell_type": "code",
   "execution_count": 8,
   "id": "53cf3c74",
   "metadata": {
    "execution": {
     "iopub.execute_input": "2023-01-14T14:01:22.091490Z",
     "iopub.status.busy": "2023-01-14T14:01:22.091078Z",
     "iopub.status.idle": "2023-01-14T14:01:22.098442Z",
     "shell.execute_reply": "2023-01-14T14:01:22.097119Z"
    },
    "papermill": {
     "duration": 0.021809,
     "end_time": "2023-01-14T14:01:22.101743",
     "exception": false,
     "start_time": "2023-01-14T14:01:22.079934",
     "status": "completed"
    },
    "tags": []
   },
   "outputs": [],
   "source": [
    "years=df['year'].value_counts().sort_values()"
   ]
  },
  {
   "cell_type": "code",
   "execution_count": 9,
   "id": "e4d5883a",
   "metadata": {
    "execution": {
     "iopub.execute_input": "2023-01-14T14:01:22.128359Z",
     "iopub.status.busy": "2023-01-14T14:01:22.127174Z",
     "iopub.status.idle": "2023-01-14T14:01:22.420395Z",
     "shell.execute_reply": "2023-01-14T14:01:22.419220Z"
    },
    "papermill": {
     "duration": 0.309743,
     "end_time": "2023-01-14T14:01:22.423121",
     "exception": false,
     "start_time": "2023-01-14T14:01:22.113378",
     "status": "completed"
    },
    "tags": []
   },
   "outputs": [
    {
     "data": {
      "image/png": "[encoded data removed]",
      "text/plain": [
       "<Figure size 432x288 with 1 Axes>"
      ]
     },
     "metadata": {
      "needs_background": "light"
     },
     "output_type": "display_data"
    }
   ],
   "source": [
    "sns.countplot(data=df,x=df['year'])\n",
    "\n",
    "plt.xticks(rotation=90);"
   ]
  },
  {
   "cell_type": "markdown",
   "id": "2a2883ea",
   "metadata": {
    "papermill": {
     "duration": 0.008622,
     "end_time": "2023-01-14T14:01:22.440515",
     "exception": false,
     "start_time": "2023-01-14T14:01:22.431893",
     "status": "completed"
    },
    "tags": []
   },
   "source": [
    "Most of our data is relatively new and the vast majority of cars are from the year 2019. The oldest car is from 1951, and the number of cars doesnt really increase uptil 2013. "
   ]
  },
  {
   "cell_type": "code",
   "execution_count": 10,
   "id": "d9abde52",
   "metadata": {
    "execution": {
     "iopub.execute_input": "2023-01-14T14:01:22.460494Z",
     "iopub.status.busy": "2023-01-14T14:01:22.459684Z",
     "iopub.status.idle": "2023-01-14T14:01:22.657610Z",
     "shell.execute_reply": "2023-01-14T14:01:22.656426Z"
    },
    "papermill": {
     "duration": 0.211256,
     "end_time": "2023-01-14T14:01:22.660488",
     "exception": false,
     "start_time": "2023-01-14T14:01:22.449232",
     "status": "completed"
    },
    "tags": []
   },
   "outputs": [
    {
     "data": {
      "text/plain": [
       "<AxesSubplot:xlabel='year', ylabel='price'>"
      ]
     },
     "execution_count": 10,
     "metadata": {},
     "output_type": "execute_result"
    },
    {
     "data": {
      "image/png": "[encoded data removed]",
      "text/plain": [
       "<Figure size 432x288 with 1 Axes>"
      ]
     },
     "metadata": {
      "needs_background": "light"
     },
     "output_type": "display_data"
    }
   ],
   "source": [
    "sns.scatterplot(data=df,x='year',y='price')"
   ]
  },
  {
   "cell_type": "markdown",
   "id": "a34ed3d4",
   "metadata": {
    "papermill": {
     "duration": 0.009546,
     "end_time": "2023-01-14T14:01:22.679620",
     "exception": false,
     "start_time": "2023-01-14T14:01:22.670074",
     "status": "completed"
    },
    "tags": []
   },
   "source": [
    "As the years progress, so do the prices of the cars which are second hand. This is because newer cars tend to have higher prices simply because they are used less. Notice how the cars with larger engines also always tend to cost more."
   ]
  },
  {
   "cell_type": "markdown",
   "id": "86fb74e0",
   "metadata": {
    "papermill": {
     "duration": 0.009027,
     "end_time": "2023-01-14T14:01:22.698291",
     "exception": false,
     "start_time": "2023-01-14T14:01:22.689264",
     "status": "completed"
    },
    "tags": []
   },
   "source": [
    "# Feature Encoding"
   ]
  },
  {
   "cell_type": "markdown",
   "id": "341da93b",
   "metadata": {
    "papermill": {
     "duration": 0.009088,
     "end_time": "2023-01-14T14:01:22.716985",
     "exception": false,
     "start_time": "2023-01-14T14:01:22.707897",
     "status": "completed"
    },
    "tags": []
   },
   "source": [
    "We can directly go ahead and encode all the categorical classes with get_dummies(). "
   ]
  },
  {
   "cell_type": "code",
   "execution_count": 11,
   "id": "b8299c87",
   "metadata": {
    "execution": {
     "iopub.execute_input": "2023-01-14T14:01:22.737568Z",
     "iopub.status.busy": "2023-01-14T14:01:22.737182Z",
     "iopub.status.idle": "2023-01-14T14:01:22.766240Z",
     "shell.execute_reply": "2023-01-14T14:01:22.764967Z"
    },
    "papermill": {
     "duration": 0.042363,
     "end_time": "2023-01-14T14:01:22.768922",
     "exception": false,
     "start_time": "2023-01-14T14:01:22.726559",
     "status": "completed"
    },
    "tags": []
   },
   "outputs": [
    {
     "data": {
      "text/html": [
       "<div>\n",
       "<style scoped>\n",
       "    .dataframe tbody tr th:only-of-type {\n",
       "        vertical-align: middle;\n",
       "    }\n",
       "\n",
       "    .dataframe tbody tr th {\n",
       "        vertical-align: top;\n",
       "    }\n",
       "\n",
       "    .dataframe thead th {\n",
       "        text-align: right;\n",
       "    }\n",
       "</style>\n",
       "<table border=\"1\" class=\"dataframe\">\n",
       "  <thead>\n",
       "    <tr style=\"text-align: right;\">\n",
       "      <th></th>\n",
       "      <th>price</th>\n",
       "      <th>mileage</th>\n",
       "      <th>engineSize</th>\n",
       "      <th>year_1995</th>\n",
       "      <th>year_1998</th>\n",
       "      <th>year_2002</th>\n",
       "      <th>year_2003</th>\n",
       "      <th>year_2004</th>\n",
       "      <th>year_2005</th>\n",
       "      <th>year_2006</th>\n",
       "      <th>...</th>\n",
       "      <th>year_2017</th>\n",
       "      <th>year_2018</th>\n",
       "      <th>year_2019</th>\n",
       "      <th>year_2020</th>\n",
       "      <th>transmission_Manual</th>\n",
       "      <th>transmission_Other</th>\n",
       "      <th>transmission_Semi-Auto</th>\n",
       "      <th>fuelType_Hybrid</th>\n",
       "      <th>fuelType_Other</th>\n",
       "      <th>fuelType_Petrol</th>\n",
       "    </tr>\n",
       "  </thead>\n",
       "  <tbody>\n",
       "    <tr>\n",
       "      <th>0</th>\n",
       "      <td>30495</td>\n",
       "      <td>1200</td>\n",
       "      <td>2.0</td>\n",
       "      <td>0</td>\n",
       "      <td>0</td>\n",
       "      <td>0</td>\n",
       "      <td>0</td>\n",
       "      <td>0</td>\n",
       "      <td>0</td>\n",
       "      <td>0</td>\n",
       "      <td>...</td>\n",
       "      <td>0</td>\n",
       "      <td>0</td>\n",
       "      <td>0</td>\n",
       "      <td>1</td>\n",
       "      <td>0</td>\n",
       "      <td>0</td>\n",
       "      <td>0</td>\n",
       "      <td>0</td>\n",
       "      <td>0</td>\n",
       "      <td>0</td>\n",
       "    </tr>\n",
       "    <tr>\n",
       "      <th>1</th>\n",
       "      <td>29989</td>\n",
       "      <td>1000</td>\n",
       "      <td>1.5</td>\n",
       "      <td>0</td>\n",
       "      <td>0</td>\n",
       "      <td>0</td>\n",
       "      <td>0</td>\n",
       "      <td>0</td>\n",
       "      <td>0</td>\n",
       "      <td>0</td>\n",
       "      <td>...</td>\n",
       "      <td>0</td>\n",
       "      <td>0</td>\n",
       "      <td>0</td>\n",
       "      <td>1</td>\n",
       "      <td>0</td>\n",
       "      <td>0</td>\n",
       "      <td>0</td>\n",
       "      <td>0</td>\n",
       "      <td>0</td>\n",
       "      <td>1</td>\n",
       "    </tr>\n",
       "    <tr>\n",
       "      <th>2</th>\n",
       "      <td>37899</td>\n",
       "      <td>500</td>\n",
       "      <td>2.0</td>\n",
       "      <td>0</td>\n",
       "      <td>0</td>\n",
       "      <td>0</td>\n",
       "      <td>0</td>\n",
       "      <td>0</td>\n",
       "      <td>0</td>\n",
       "      <td>0</td>\n",
       "      <td>...</td>\n",
       "      <td>0</td>\n",
       "      <td>0</td>\n",
       "      <td>0</td>\n",
       "      <td>1</td>\n",
       "      <td>0</td>\n",
       "      <td>0</td>\n",
       "      <td>0</td>\n",
       "      <td>0</td>\n",
       "      <td>0</td>\n",
       "      <td>0</td>\n",
       "    </tr>\n",
       "    <tr>\n",
       "      <th>3</th>\n",
       "      <td>30399</td>\n",
       "      <td>5000</td>\n",
       "      <td>2.0</td>\n",
       "      <td>0</td>\n",
       "      <td>0</td>\n",
       "      <td>0</td>\n",
       "      <td>0</td>\n",
       "      <td>0</td>\n",
       "      <td>0</td>\n",
       "      <td>0</td>\n",
       "      <td>...</td>\n",
       "      <td>0</td>\n",
       "      <td>0</td>\n",
       "      <td>1</td>\n",
       "      <td>0</td>\n",
       "      <td>0</td>\n",
       "      <td>0</td>\n",
       "      <td>0</td>\n",
       "      <td>0</td>\n",
       "      <td>0</td>\n",
       "      <td>0</td>\n",
       "    </tr>\n",
       "    <tr>\n",
       "      <th>4</th>\n",
       "      <td>29899</td>\n",
       "      <td>4500</td>\n",
       "      <td>2.0</td>\n",
       "      <td>0</td>\n",
       "      <td>0</td>\n",
       "      <td>0</td>\n",
       "      <td>0</td>\n",
       "      <td>0</td>\n",
       "      <td>0</td>\n",
       "      <td>0</td>\n",
       "      <td>...</td>\n",
       "      <td>0</td>\n",
       "      <td>0</td>\n",
       "      <td>1</td>\n",
       "      <td>0</td>\n",
       "      <td>0</td>\n",
       "      <td>0</td>\n",
       "      <td>0</td>\n",
       "      <td>0</td>\n",
       "      <td>0</td>\n",
       "      <td>0</td>\n",
       "    </tr>\n",
       "  </tbody>\n",
       "</table>\n",
       "<p>5 rows × 30 columns</p>\n",
       "</div>"
      ],
      "text/plain": [
       "   price  mileage  engineSize  year_1995  year_1998  year_2002  year_2003  \\\n",
       "0  30495     1200         2.0          0          0          0          0   \n",
       "1  29989     1000         1.5          0          0          0          0   \n",
       "2  37899      500         2.0          0          0          0          0   \n",
       "3  30399     5000         2.0          0          0          0          0   \n",
       "4  29899     4500         2.0          0          0          0          0   \n",
       "\n",
       "   year_2004  year_2005  year_2006  ...  year_2017  year_2018  year_2019  \\\n",
       "0          0          0          0  ...          0          0          0   \n",
       "1          0          0          0  ...          0          0          0   \n",
       "2          0          0          0  ...          0          0          0   \n",
       "3          0          0          0  ...          0          0          1   \n",
       "4          0          0          0  ...          0          0          1   \n",
       "\n",
       "   year_2020  transmission_Manual  transmission_Other  transmission_Semi-Auto  \\\n",
       "0          1                    0                   0                       0   \n",
       "1          1                    0                   0                       0   \n",
       "2          1                    0                   0                       0   \n",
       "3          0                    0                   0                       0   \n",
       "4          0                    0                   0                       0   \n",
       "\n",
       "   fuelType_Hybrid  fuelType_Other  fuelType_Petrol  \n",
       "0                0               0                0  \n",
       "1                0               0                1  \n",
       "2                0               0                0  \n",
       "3                0               0                0  \n",
       "4                0               0                0  \n",
       "\n",
       "[5 rows x 30 columns]"
      ]
     },
     "execution_count": 11,
     "metadata": {},
     "output_type": "execute_result"
    }
   ],
   "source": [
    "df=pd.get_dummies(df, columns=[\"model\",\"year\",\"transmission\",\"fuelType\"],drop_first=True)\n",
    "df.head()"
   ]
  },
  {
   "cell_type": "markdown",
   "id": "20755c50",
   "metadata": {
    "papermill": {
     "duration": 0.009411,
     "end_time": "2023-01-14T14:01:22.788103",
     "exception": false,
     "start_time": "2023-01-14T14:01:22.778692",
     "status": "completed"
    },
    "tags": []
   },
   "source": [
    "# Theory On SVM  \n",
    "Support Vector Machine (SVM) is a supervised machine learning algorithm that can be used for classification or regression tasks. The idea behind SVM is to find the best boundary or decision surface that separates the data into different classes.  \n",
    "The boundary is chosen in such a way that it maximizes the margin, which is the distance between the boundary and the closest data points from each class, also known as support vectors. \n",
    "\n",
    "SVMs can be used for both linear and non-linear classification. In the case of linear classification, the decision boundary is a straight line or hyperplane. However, when the data is not linearly separable, we can use a technique called the kernel trick to transform the data into a higher dimensional space where it becomes linearly separable. Common kernel functions include the polynomial kernel and the radial basis function (RBF) kernel.  \n",
    "\n",
    "Now that we've gotten a good idea about Support Vectors, lets go ahead and create the test and train split and fit our model!"
   ]
  },
  {
   "cell_type": "code",
   "execution_count": 12,
   "id": "3ca58e65",
   "metadata": {
    "execution": {
     "iopub.execute_input": "2023-01-14T14:01:22.809771Z",
     "iopub.status.busy": "2023-01-14T14:01:22.809355Z",
     "iopub.status.idle": "2023-01-14T14:01:22.816455Z",
     "shell.execute_reply": "2023-01-14T14:01:22.815242Z"
    },
    "papermill": {
     "duration": 0.020572,
     "end_time": "2023-01-14T14:01:22.818841",
     "exception": false,
     "start_time": "2023-01-14T14:01:22.798269",
     "status": "completed"
    },
    "tags": []
   },
   "outputs": [],
   "source": [
    "X=df.drop('price',axis=1)\n",
    "y=df['price']"
   ]
  },
  {
   "cell_type": "code",
   "execution_count": 13,
   "id": "bc47ea15",
   "metadata": {
    "execution": {
     "iopub.execute_input": "2023-01-14T14:01:22.840055Z",
     "iopub.status.busy": "2023-01-14T14:01:22.839645Z",
     "iopub.status.idle": "2023-01-14T14:01:22.848814Z",
     "shell.execute_reply": "2023-01-14T14:01:22.847760Z"
    },
    "papermill": {
     "duration": 0.022464,
     "end_time": "2023-01-14T14:01:22.851368",
     "exception": false,
     "start_time": "2023-01-14T14:01:22.828904",
     "status": "completed"
    },
    "tags": []
   },
   "outputs": [],
   "source": [
    "X_train, X_test, y_train, y_test = train_test_split(X, y, test_size=0.2, random_state=101)"
   ]
  },
  {
   "cell_type": "code",
   "execution_count": 14,
   "id": "6f197e3e",
   "metadata": {
    "execution": {
     "iopub.execute_input": "2023-01-14T14:01:22.872505Z",
     "iopub.status.busy": "2023-01-14T14:01:22.872112Z",
     "iopub.status.idle": "2023-01-14T14:01:23.748043Z",
     "shell.execute_reply": "2023-01-14T14:01:23.747021Z"
    },
    "papermill": {
     "duration": 0.889636,
     "end_time": "2023-01-14T14:01:23.750532",
     "exception": false,
     "start_time": "2023-01-14T14:01:22.860896",
     "status": "completed"
    },
    "tags": []
   },
   "outputs": [
    {
     "data": {
      "text/plain": [
       "SVR()"
      ]
     },
     "execution_count": 14,
     "metadata": {},
     "output_type": "execute_result"
    }
   ],
   "source": [
    "base_model = SVR()\n",
    "base_model.fit(X_train,y_train)"
   ]
  },
  {
   "cell_type": "code",
   "execution_count": 15,
   "id": "587a7869",
   "metadata": {
    "execution": {
     "iopub.execute_input": "2023-01-14T14:01:23.771760Z",
     "iopub.status.busy": "2023-01-14T14:01:23.771344Z",
     "iopub.status.idle": "2023-01-14T14:01:23.778238Z",
     "shell.execute_reply": "2023-01-14T14:01:23.777184Z"
    },
    "papermill": {
     "duration": 0.021759,
     "end_time": "2023-01-14T14:01:23.782074",
     "exception": false,
     "start_time": "2023-01-14T14:01:23.760315",
     "status": "completed"
    },
    "tags": []
   },
   "outputs": [
    {
     "data": {
      "text/plain": [
       "23444.048717948717"
      ]
     },
     "execution_count": 15,
     "metadata": {},
     "output_type": "execute_result"
    }
   ],
   "source": [
    "y_test.mean()"
   ]
  },
  {
   "cell_type": "code",
   "execution_count": 16,
   "id": "bc1b03a7",
   "metadata": {
    "execution": {
     "iopub.execute_input": "2023-01-14T14:01:23.804243Z",
     "iopub.status.busy": "2023-01-14T14:01:23.803837Z",
     "iopub.status.idle": "2023-01-14T14:01:24.029462Z",
     "shell.execute_reply": "2023-01-14T14:01:24.027766Z"
    },
    "papermill": {
     "duration": 0.239991,
     "end_time": "2023-01-14T14:01:24.032224",
     "exception": false,
     "start_time": "2023-01-14T14:01:23.792233",
     "status": "completed"
    },
    "tags": []
   },
   "outputs": [
    {
     "name": "stdout",
     "output_type": "stream",
     "text": [
      "The RMSE is 8936.944009043626\n",
      "The MEA is 6551.932766674952\n"
     ]
    }
   ],
   "source": [
    "base_preds = base_model.predict(X_test)\n",
    "\n",
    "\n",
    "MEA = mean_absolute_error(y_test,base_preds)\n",
    "RMSE = np.sqrt(mean_squared_error(y_test,base_preds))\n",
    "print(\"The RMSE is \"+str(RMSE))\n",
    "print(\"The MEA is \"+str(MEA))"
   ]
  },
  {
   "cell_type": "markdown",
   "id": "5c1d0e2f",
   "metadata": {
    "papermill": {
     "duration": 0.009874,
     "end_time": "2023-01-14T14:01:24.052382",
     "exception": false,
     "start_time": "2023-01-14T14:01:24.042508",
     "status": "completed"
    },
    "tags": []
   },
   "source": [
    "We arrive at a respectable RMSE and MEA for our error metrics. However, if we look further into the parameters and choose appropriate values for them we will ge"
   ]
  },
  {
   "cell_type": "markdown",
   "id": "9ade6665",
   "metadata": {
    "papermill": {
     "duration": 0.010115,
     "end_time": "2023-01-14T14:01:24.072448",
     "exception": false,
     "start_time": "2023-01-14T14:01:24.062333",
     "status": "completed"
    },
    "tags": []
   },
   "source": [
    "# SVR Parameters  \n",
    "The scikit-learn library provides several parameters that can be used to control the behavior of the SVM algorithm. Some of the most commonly used parameters include:\n",
    "\n",
    "* kernel: The kernel function to be used. Common choices include 'linear', 'poly', 'rbf', and 'sigmoid'.\n",
    "* C: The regularization parameter. Larger values of C will result in a smaller margin but a more accurate decision boundary. Smaller values of C will result in a larger margin but a less accurate decision boundary.\n",
    "* degree: The degree of the polynomial kernel function, if that is the chosen kernel.\n",
    "* gamma : The gamma parameter of the radial basis function (RBF) kernel. Larger values of gamma will result in a decision boundary that is more closely fit to the training data, while smaller values will result in a decision boundary that is more smooth."
   ]
  },
  {
   "cell_type": "markdown",
   "id": "791613a6",
   "metadata": {
    "papermill": {
     "duration": 0.009574,
     "end_time": "2023-01-14T14:01:24.091889",
     "exception": false,
     "start_time": "2023-01-14T14:01:24.082315",
     "status": "completed"
    },
    "tags": []
   },
   "source": [
    "For our scenario, we wish to only modify and try multiple different C values and degrees for hyperparameter optimization."
   ]
  },
  {
   "cell_type": "code",
   "execution_count": 17,
   "id": "632e7543",
   "metadata": {
    "execution": {
     "iopub.execute_input": "2023-01-14T14:01:24.115310Z",
     "iopub.status.busy": "2023-01-14T14:01:24.114921Z",
     "iopub.status.idle": "2023-01-14T14:01:24.120240Z",
     "shell.execute_reply": "2023-01-14T14:01:24.119105Z"
    },
    "papermill": {
     "duration": 0.019491,
     "end_time": "2023-01-14T14:01:24.122480",
     "exception": false,
     "start_time": "2023-01-14T14:01:24.102989",
     "status": "completed"
    },
    "tags": []
   },
   "outputs": [],
   "source": [
    "param_grid = {'C':[0.5,1,1.25],\n",
    "             'kernel':['poly'],\n",
    "              'degree':[2,3]\n",
    "              }"
   ]
  },
  {
   "cell_type": "code",
   "execution_count": 18,
   "id": "1f1aaaf4",
   "metadata": {
    "execution": {
     "iopub.execute_input": "2023-01-14T14:01:24.145427Z",
     "iopub.status.busy": "2023-01-14T14:01:24.144282Z",
     "iopub.status.idle": "2023-01-14T14:01:34.189019Z",
     "shell.execute_reply": "2023-01-14T14:01:34.187755Z"
    },
    "papermill": {
     "duration": 10.059366,
     "end_time": "2023-01-14T14:01:34.191862",
     "exception": false,
     "start_time": "2023-01-14T14:01:24.132496",
     "status": "completed"
    },
    "tags": []
   },
   "outputs": [
    {
     "data": {
      "text/plain": [
       "GridSearchCV(estimator=SVR(), n_jobs=-1,\n",
       "             param_grid={'C': [0.5, 1, 1.25], 'degree': [2, 3],\n",
       "                         'kernel': ['poly']})"
      ]
     },
     "execution_count": 18,
     "metadata": {},
     "output_type": "execute_result"
    }
   ],
   "source": [
    "# setting n_jobs as -1 so that all cores are used. SVM takes quite a while to create the fits with GridSearchCV\n",
    "svr = SVR()\n",
    "grid = GridSearchCV(svr,param_grid=param_grid, n_jobs = -1)\n",
    "\n",
    "grid.fit(X_train,y_train)"
   ]
  },
  {
   "cell_type": "markdown",
   "id": "6ab27c93",
   "metadata": {
    "papermill": {
     "duration": 0.011491,
     "end_time": "2023-01-14T14:01:34.219090",
     "exception": false,
     "start_time": "2023-01-14T14:01:34.207599",
     "status": "completed"
    },
    "tags": []
   },
   "source": [
    "Lets see what parameters our model chose..."
   ]
  },
  {
   "cell_type": "code",
   "execution_count": 19,
   "id": "5c737f10",
   "metadata": {
    "execution": {
     "iopub.execute_input": "2023-01-14T14:01:34.249205Z",
     "iopub.status.busy": "2023-01-14T14:01:34.248569Z",
     "iopub.status.idle": "2023-01-14T14:01:34.258294Z",
     "shell.execute_reply": "2023-01-14T14:01:34.257150Z"
    },
    "papermill": {
     "duration": 0.029554,
     "end_time": "2023-01-14T14:01:34.261079",
     "exception": false,
     "start_time": "2023-01-14T14:01:34.231525",
     "status": "completed"
    },
    "tags": []
   },
   "outputs": [
    {
     "data": {
      "text/plain": [
       "{'C': 1.25, 'degree': 2, 'kernel': 'poly'}"
      ]
     },
     "execution_count": 19,
     "metadata": {},
     "output_type": "execute_result"
    }
   ],
   "source": [
    "grid.best_params_"
   ]
  },
  {
   "cell_type": "code",
   "execution_count": 20,
   "id": "b382fdc6",
   "metadata": {
    "execution": {
     "iopub.execute_input": "2023-01-14T14:01:34.287520Z",
     "iopub.status.busy": "2023-01-14T14:01:34.286078Z",
     "iopub.status.idle": "2023-01-14T14:01:34.434237Z",
     "shell.execute_reply": "2023-01-14T14:01:34.432766Z"
    },
    "papermill": {
     "duration": 0.164921,
     "end_time": "2023-01-14T14:01:34.437227",
     "exception": false,
     "start_time": "2023-01-14T14:01:34.272306",
     "status": "completed"
    },
    "tags": []
   },
   "outputs": [
    {
     "name": "stdout",
     "output_type": "stream",
     "text": [
      "MEA is 5627.93821305898\n",
      "RMSE is 8076.05189126961\n"
     ]
    }
   ],
   "source": [
    "grid_preds = grid.predict(X_test)\n",
    "MEA = mean_absolute_error(y_test,grid_preds)\n",
    "RMSE = np.sqrt(mean_squared_error(y_test,grid_preds))\n",
    "print(\"MEA is \"+ str(MEA))\n",
    "print(\"RMSE is \"+ str(RMSE))"
   ]
  },
  {
   "cell_type": "markdown",
   "id": "2ee409ec",
   "metadata": {
    "papermill": {
     "duration": 0.009961,
     "end_time": "2023-01-14T14:01:34.457802",
     "exception": false,
     "start_time": "2023-01-14T14:01:34.447841",
     "status": "completed"
    },
    "tags": []
   },
   "source": [
    "Yaay! Our scores improved! Further optimization would yield an even better prediction. But for now, lets leave it as is. SVM is a really powerful tool and very versatile for small datasets which have unusual types of feature signals which cant be captured by ordinary models."
   ]
  }
 ],
 "metadata": {
  "kernelspec": {
   "display_name": "Python 3",
   "language": "python",
   "name": "python3"
  },
  "language_info": {
   "codemirror_mode": {
    "name": "ipython",
    "version": 3
   },
   "file_extension": ".py",
   "mimetype": "text/x-python",
   "name": "python",
   "nbconvert_exporter": "python",
   "pygments_lexer": "ipython3",
   "version": "3.7.12"
  },
  "papermill": {
   "default_parameters": {},
   "duration": 26.086795,
   "end_time": "2023-01-14T14:01:37.089765",
   "environment_variables": {},
   "exception": null,
   "input_path": "__notebook__.ipynb",
   "output_path": "__notebook__.ipynb",
   "parameters": {},
   "start_time": "2023-01-14T14:01:11.002970",
   "version": "2.3.4"
  }
 },
 "nbformat": 4,
 "nbformat_minor": 5
}
